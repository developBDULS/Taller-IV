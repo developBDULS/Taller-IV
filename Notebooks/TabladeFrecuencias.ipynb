{
  "nbformat": 4,
  "nbformat_minor": 0,
  "metadata": {
    "colab": {
      "name": "TabladeFrecuencias",
      "provenance": [],
      "collapsed_sections": []
    },
    "kernelspec": {
      "name": "python3",
      "display_name": "Python 3"
    },
    "language_info": {
      "name": "python"
    }
  },
  "cells": [
    {
      "cell_type": "code",
      "metadata": {
        "id": "i9P9OfxHeTaJ"
      },
      "source": [
        "#Importar librerias\n",
        "import numpy as np\n",
        "import matplotlib.pyplot as plt\n",
        "import pandas as pd\n",
        "from google.colab import files\n",
        "import io"
      ],
      "execution_count": null,
      "outputs": []
    },
    {
      "cell_type": "code",
      "metadata": {
        "id": "uCadxs-FbGOK"
      },
      "source": [
        "uploaded = files.upload()\n",
        "df_EjemploTablaFrecuencias=pd.read_excel(io.BytesIO(uploaded['EjemploTablaFrecuencias.xlsx']))"
      ],
      "execution_count": null,
      "outputs": []
    },
    {
      "cell_type": "code",
      "metadata": {
        "id": "3JmpQu0mec0Y"
      },
      "source": [
        "#Leemos los datos\n",
        "df_EjemploTablaFrecuencias"
      ],
      "execution_count": null,
      "outputs": []
    },
    {
      "cell_type": "code",
      "metadata": {
        "id": "3m_DKqg4egoN"
      },
      "source": [
        "#Hacemos el conteo de las respuestas\n",
        "frec=pd.value_counts(df_EjemploTablaFrecuencias[\"Respuestas\"])\n",
        "frec"
      ],
      "execution_count": null,
      "outputs": []
    },
    {
      "cell_type": "code",
      "metadata": {
        "id": "XwIAjZJJejrq"
      },
      "source": [
        "frec_df=pd.DataFrame(frec)\n",
        "#Asignamos el nombre frec_abs a la columna\n",
        "frec_df.columns=[\"frec_abs\"]\n",
        "frec_df"
      ],
      "execution_count": null,
      "outputs": []
    },
    {
      "cell_type": "code",
      "metadata": {
        "id": "N_PS98wjepw1"
      },
      "source": [
        "#Calculamos la frecuencia relativa\n",
        "frec_df[\"frec_rel\"]=100*frec_df[\"frec_abs\"]/len(df_EjemploTablaFrecuencias)\n",
        "frec_df"
      ],
      "execution_count": null,
      "outputs": []
    },
    {
      "cell_type": "code",
      "metadata": {
        "id": "Y33CuhvQe3G9"
      },
      "source": [
        "#Obtenemos los valores de las frecuencias absolutas\n",
        "frec_abs_val=frec_df[\"frec_abs\"].values\n",
        "frec_abs_val\n",
        "#Creamos una lista vacía en donde registraremos las frecuencias absolutas acumuladas\n",
        "acum=[]\n",
        "#Iniciamos una variable en la que guardaremos los valores anteriores\n",
        "valor_acum=0\n",
        "#Recorremos la lista de las frecuencias absolutas para irlas sumando\n",
        "for i in frec_abs_val:\n",
        "  valor_acum=valor_acum + i\n",
        "  acum.append(valor_acum)\n",
        "frec_df[\"frec_abs_acum\"]=acum\n",
        "frec_df"
      ],
      "execution_count": null,
      "outputs": []
    },
    {
      "cell_type": "code",
      "metadata": {
        "id": "MaFxJvSLfDde"
      },
      "source": [
        "#Obtenemos los valores de las frecuencias relativas\n",
        "frec_rel_val=frec_df[\"frec_rel\"].values\n",
        "frec_rel_val\n",
        "#Creamos una lista vacía en donde registraremos las frecuencias relativas acumuladas\n",
        "acum=[]\n",
        "#Iniciamos una variable en la que guardaremos los valores anteriores\n",
        "valor_acum=0\n",
        "#Recorremos la lista de las frecuencias relativas para irlas sumando\n",
        "for i in frec_rel_val:\n",
        "  valor_acum=valor_acum + i\n",
        "  acum.append(valor_acum)\n",
        "frec_df[\"frec_rel_%_acum\"]=acum\n",
        "frec_df"
      ],
      "execution_count": null,
      "outputs": []
    },
    {
      "cell_type": "code",
      "metadata": {
        "id": "zNGZAL24fL8Q"
      },
      "source": [
        "#Indicamos que utilizaremos un solo gráfico\n",
        "fig=plt.figure()\n",
        "ax=fig.add_subplot(1,1,1)\n",
        "#Asignamos un título al gráfico\n",
        "ax.set_title('¿Cómo encuentra el lugar para alimentarse?')\n",
        "#Creamos una gráfica de barras con las frecuencias absolutas\n",
        "ax.bar(frec_df.index, frec_df[\"frec_abs\"], color=\"g\")\n",
        "#Rotamos las etiquetas del eje X\n",
        "ax.set_xticklabels(frec_df.index, rotation=90)\n",
        "plt.show()\n"
      ],
      "execution_count": null,
      "outputs": []
    }
  ]
}