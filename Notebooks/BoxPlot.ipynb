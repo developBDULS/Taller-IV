{
  "nbformat": 4,
  "nbformat_minor": 0,
  "metadata": {
    "colab": {
      "name": "BoxPlot",
      "provenance": [],
      "collapsed_sections": []
    },
    "kernelspec": {
      "name": "python3",
      "display_name": "Python 3"
    },
    "language_info": {
      "name": "python"
    }
  },
  "cells": [
    {
      "cell_type": "code",
      "metadata": {
        "id": "FruGs68ydCiy"
      },
      "source": [
        "#Importar librerías\n",
        "import numpy as np\n",
        "import matplotlib.pyplot as plt\n",
        "import pandas as pd\n",
        "from google.colab import files\n",
        "import io\n"
      ],
      "execution_count": null,
      "outputs": []
    },
    {
      "cell_type": "code",
      "metadata": {
        "id": "EDJr0-7ydS75"
      },
      "source": [
        "uploaded = files.upload()\n",
        "df_EjemploBoxPlot=pd.read_excel(io.BytesIO(uploaded['EjemploBoxPlot.xlsx']))"
      ],
      "execution_count": null,
      "outputs": []
    },
    {
      "cell_type": "code",
      "metadata": {
        "id": "FZq5FABgdV0n"
      },
      "source": [
        "#Leemos los datos\n",
        "df_EjemploBoxPlot"
      ],
      "execution_count": null,
      "outputs": []
    },
    {
      "cell_type": "code",
      "metadata": {
        "id": "i2ShXnhwdZ-M"
      },
      "source": [
        "df_EjemploBoxPlot.describe().round(1)"
      ],
      "execution_count": null,
      "outputs": []
    },
    {
      "cell_type": "code",
      "metadata": {
        "id": "qs2_YoQQdgW5"
      },
      "source": [
        "Q1=(df_EjemploBoxPlot[\"Duración_Baterías\"]).quantile(0.25).round(1)\n",
        "print(\"Q1\",Q1)"
      ],
      "execution_count": null,
      "outputs": []
    },
    {
      "cell_type": "code",
      "metadata": {
        "id": "uUYYWwP2dnxu"
      },
      "source": [
        "Q2=(df_EjemploBoxPlot[\"Duración_Baterías\"]).quantile(0.5).round(1)\n",
        "print(\"Q2\",Q2)"
      ],
      "execution_count": null,
      "outputs": []
    },
    {
      "cell_type": "code",
      "metadata": {
        "id": "HvzWCp-gfHlo"
      },
      "source": [
        "Q3=(df_EjemploBoxPlot[\"Duración_Baterías\"]).quantile(0.75).round(1)\n",
        "print (\"Q3\",Q3)"
      ],
      "execution_count": null,
      "outputs": []
    },
    {
      "cell_type": "code",
      "metadata": {
        "id": "Vz7waJACd_Dz"
      },
      "source": [
        "#Rango Intercuartilico para identificar los puntos atípicos\n",
        "RIC=Q3-Q1\n",
        "Límite_inferior=(Q1-1.5*RIC).round(1)\n",
        "Límite_superior=(Q3+1.5*RIC).round(1)\n",
        "print(\"Límite_inferior\",Límite_inferior)\n",
        "print(\"Límite_superior\",Límite_superior)"
      ],
      "execution_count": null,
      "outputs": []
    },
    {
      "cell_type": "code",
      "metadata": {
        "id": "N3xdMaIDeC3F"
      },
      "source": [
        "#Dibujamos el Box Plot\n",
        "red_square = dict(markerfacecolor='r', marker='s')\n",
        "fig1, ax1 = plt.subplots()\n",
        "ax1.set_title('Duración_Baterías')\n",
        "ax1.boxplot(df_EjemploBoxPlot[\"Duración_Baterías\"],flierprops=red_square)"
      ],
      "execution_count": null,
      "outputs": []
    }
  ]
}